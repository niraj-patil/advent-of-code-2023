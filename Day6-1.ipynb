{
 "cells": [
  {
   "cell_type": "code",
   "execution_count": 58,
   "metadata": {},
   "outputs": [],
   "source": [
    "from math import ceil"
   ]
  },
  {
   "cell_type": "code",
   "execution_count": 1,
   "metadata": {},
   "outputs": [
    {
     "name": "stdout",
     "output_type": "stream",
     "text": [
      "[49, 87, 78, 95] [356, 1378, 1502, 1882]\n"
     ]
    }
   ],
   "source": [
    "input = \"\"\"Time:        49     87     78     95\n",
    "Distance:   356   1378   1502   1882\"\"\"\n",
    "time,record = input.splitlines()\n",
    "time=[int(i) for i in time.split() if i.isdigit()]\n",
    "record=[int(i) for i in record.split() if i.isdigit()]\n",
    "print(time,record)"
   ]
  },
  {
   "cell_type": "code",
   "execution_count": 67,
   "metadata": {},
   "outputs": [
    {
     "name": "stdout",
     "output_type": "stream",
     "text": [
      "0 77 152 225 296 365 432 497 560 621 680 737 792 845 896 945 992 1037 1080 1121 1160 1197 1232 1265 1296 1325 1352 1377 1400 1421 1440 1457 1472 1485 1496 1505 1512 1517 1520 1521 1520 1517 1512 1505 1496 1485 1472 1457 1440 1421 1400 1377 1352 1325 1296 1265 1232 1197 1160 1121 1080 1037 992 945 896 845 792 737 680 621 560 497 432 365 296 225 152 77 0 "
     ]
    }
   ],
   "source": [
    "def calculate_distance(speed,time):\n",
    "    return speed*time\n",
    "\n",
    "# def find_peak(time):\n",
    "#     low = 0\n",
    "#     high = time\n",
    "#     while(low<=high):\n",
    "#         mid = low+high//2\n",
    "        \n",
    "#         lower_mid = calculate_distance(mid-1,time-(mid-1))\n",
    "#         middle = calculate_distance(mid,time-(mid))\n",
    "#         upper_mid = calculate_distance(mid+1,time-(mid+1))\n",
    "        \n",
    "#         if((lower_mid==middle) or (upper_mid==middle) or (lower_mid<middle and middle>upper_mid)):\n",
    "#             return mid\n",
    "#         elif(lower_mid<middle and middle<upper_mid):\n",
    "#             low = mid+1\n",
    "#         else:\n",
    "#             high = mid-1\n",
    "#     return mid\n",
    "\n",
    "def lowerbound(time,record):\n",
    "    low = 0\n",
    "    high = ceil(time/2)\n",
    "    while(low<=high):\n",
    "        mid = (low+high) // 2\n",
    "        if(calculate_distance(mid,time-mid)>record):\n",
    "            high = mid - 1 \n",
    "        else:\n",
    "            low = mid + 1\n",
    "    return mid\n",
    "\n",
    "def find_range(time,record):\n",
    "    ways = (ceil(time/2) - lowerbound(time,record)) * 2\n",
    "    if(time%2==0): ways+=1\n",
    "    return ways\n",
    "\n",
    "# def upperbound(time,record):\n",
    "#     low = time//2\n",
    "#     high = time\n",
    "#     while(low<=high):\n",
    "#         mid = (low+high) // 2\n",
    "#         if(calculate_distance(mid,time-mid)>record):\n",
    "#             high = mid - 1\n",
    "#         else:\n",
    "#             low = mid + 1 \n",
    "#     # return calculate_distance(mid,time-mid)\n",
    "#     return mid     \n",
    "\n",
    "for i in range(0,79):\n",
    "    print(calculate_distance(i,78-i),end=\" \")       "
   ]
  },
  {
   "cell_type": "code",
   "execution_count": 69,
   "metadata": {},
   "outputs": [
    {
     "name": "stdout",
     "output_type": "stream",
     "text": [
      "32\n",
      "46\n",
      "9\n",
      "38\n"
     ]
    },
    {
     "data": {
      "text/plain": [
       "503424"
      ]
     },
     "execution_count": 69,
     "metadata": {},
     "output_type": "execute_result"
    }
   ],
   "source": [
    "solution = 1\n",
    "for race in range(len(time)):\n",
    "    print(find_range(time[race],record[race]))\n",
    "    solution *= find_range(time[race],record[race])\n",
    "    \n",
    "            \n",
    "solution"
   ]
  }
 ],
 "metadata": {
  "kernelspec": {
   "display_name": "Python 3",
   "language": "python",
   "name": "python3"
  },
  "language_info": {
   "codemirror_mode": {
    "name": "ipython",
    "version": 3
   },
   "file_extension": ".py",
   "mimetype": "text/x-python",
   "name": "python",
   "nbconvert_exporter": "python",
   "pygments_lexer": "ipython3",
   "version": "3.11.7"
  }
 },
 "nbformat": 4,
 "nbformat_minor": 2
}
