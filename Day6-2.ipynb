{
 "cells": [
  {
   "cell_type": "code",
   "execution_count": 12,
   "metadata": {},
   "outputs": [],
   "source": [
    "from math import ceil"
   ]
  },
  {
   "cell_type": "code",
   "execution_count": 13,
   "metadata": {},
   "outputs": [
    {
     "name": "stdout",
     "output_type": "stream",
     "text": [
      "49877895 356137815021882\n"
     ]
    }
   ],
   "source": [
    "input = \"\"\"Time:        49     87     78     95\n",
    "Distance:   356   1378   1502   1882\"\"\"\n",
    "time,record = input.replace(\" \",\"\").splitlines()\n",
    "time= int(time.split(\":\")[1])\n",
    "record= int(record.split(\":\")[1])\n",
    "print(time,record)"
   ]
  },
  {
   "cell_type": "code",
   "execution_count": 14,
   "metadata": {},
   "outputs": [],
   "source": [
    "def calculate_distance(speed,time):\n",
    "    return speed*time\n",
    "\n",
    "def lowerbound(time,record):\n",
    "    low = 0\n",
    "    high = ceil(time/2)\n",
    "    while(low<=high):\n",
    "        mid = (low+high) // 2\n",
    "        if(calculate_distance(mid,time-mid)>record):\n",
    "            high = mid - 1 \n",
    "        else:\n",
    "            low = mid + 1\n",
    "    return mid\n",
    "\n",
    "def find_range(time,record):\n",
    "    ways = (ceil(time/2) - lowerbound(time,record)) * 2\n",
    "    if(time%2==0): ways+=1\n",
    "    return ways"
   ]
  },
  {
   "cell_type": "code",
   "execution_count": 15,
   "metadata": {},
   "outputs": [
    {
     "data": {
      "text/plain": [
       "32607562"
      ]
     },
     "execution_count": 15,
     "metadata": {},
     "output_type": "execute_result"
    }
   ],
   "source": [
    "solution = find_range(time,record)\n",
    "            \n",
    "solution"
   ]
  }
 ],
 "metadata": {
  "kernelspec": {
   "display_name": "Python 3",
   "language": "python",
   "name": "python3"
  },
  "language_info": {
   "codemirror_mode": {
    "name": "ipython",
    "version": 3
   },
   "file_extension": ".py",
   "mimetype": "text/x-python",
   "name": "python",
   "nbconvert_exporter": "python",
   "pygments_lexer": "ipython3",
   "version": "3.11.7"
  }
 },
 "nbformat": 4,
 "nbformat_minor": 2
}
